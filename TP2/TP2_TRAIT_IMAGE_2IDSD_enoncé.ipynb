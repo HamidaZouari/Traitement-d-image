{
 "cells": [
  {
   "cell_type": "markdown",
   "metadata": {},
   "source": [
    "# TP2 ANALYSE D'HISTOGRAMMES \n",
    "                                                                                                 Nom:\n",
    "                                                                                                 Prenom:\n",
    "                                                                                                 Groupe:"
   ]
  },
  {
   "cell_type": "markdown",
   "metadata": {},
   "source": [
    "## Introduction\n",
    "Afficher une image n'est pas suffisant pour analyser son contenu. Pour extraire de l'information à partir de l’image, nous utilisons des outils d'aide à l'analyse tels que l’histogramme, le profil, le scanning. Dans ce TP, nous mettons l'accent sur l'histogramme dont l’usage est très répondu."
   ]
  },
  {
   "cell_type": "markdown",
   "metadata": {},
   "source": [
    "\n",
    "## I. Illustration sur une image synthétique\n",
    "### 1. Histogramme\n",
    "En statistiques, un histogramme est un graphique permettant de représenter la répartition d'une variable continue. Spécifiquement, en imagerie numérique, il permet de représenter la distribution des intensités de l'image c'est-à-dire le nombre de pixels (en ordonnée) pour chaque intensité lumineuse (en abscisse en allant du plus foncé au plus clair). A titre d'exemple, l’histogramme d’une image en 256 niveaux de gris comporte 256 valeurs en abscisses et le nombre de pixels de l'image en ordonnées.\n",
    "* Génerer et afficher l'image **'im'** qui prend comme matrice: \n",
    "\n",
    "\\begin{array}{ccc} \n",
    "1 & 1 & 0 & 0 \\\\\n",
    "2 & 2 & 1 & 1 \\\\\n",
    "0 & 3 & 2 & 2 \\\\\n",
    "1 & 1 & 1 & 1 \\end{array} \n",
    "\n",
    "* Calculer l'histogramme **H** de l'image **imv.\n",
    "* Afficher l’histogramme de l’image (utiliser la fonction **bar**)."
   ]
  },
  {
   "cell_type": "code",
   "execution_count": null,
   "metadata": {},
   "outputs": [],
   "source": []
  },
  {
   "cell_type": "markdown",
   "metadata": {},
   "source": [
    "### 2. Histogramme cumulé\n",
    "L'histogramme cumulé est un graphique qui représente le pourcentage de pixels noté $ HC(x_{k})$ (voir l’équation ci-dessous) de valeurs inférieures à un niveau d'intensité donné $x_{k}$. Il donne idée sur l'équilibre de la répartition des niveaux de couleurs, voir notamment si la pleine échelle des niveaux de couleur est utilisée.\n",
    "où $H$ désigne le nombre de pixels d’intensité égale à $x_{j}$, $n$ et $m$ sont les dimensions de l’image en ligne et colonne.\n",
    "$$ HC(x_{k})=\\frac{\\sum_{j=0}^{+k} H(x_{j})}{n*m} $$\n",
    "* Reprenons le programme précédent:"
   ]
  },
  {
   "cell_type": "code",
   "execution_count": null,
   "metadata": {},
   "outputs": [],
   "source": [
    "#calcul de l’histogramme cumulé\n",
    "HC=np.zeros(shape=4,dtype=np.uint8)\n",
    "HC[0]=H[0]\n",
    "#print(H)\n",
    "for i in range(1, 4):\n",
    "    HC[i]=HC[i-1]+H[i]\n",
    "HC=HC/(N*M)\n",
    "print(HC) \n",
    "# afficher l’histogramme cumulé (fig)\n",
    "…………………………………………………………………………."
   ]
  },
  {
   "cell_type": "markdown",
   "metadata": {},
   "source": [
    "## II. Illustration sur un cas réel\n",
    "#### 1. Histogramme d’une image en couleurs\n",
    "Considérer l’image couleur \"**lena.bmp**\".\n",
    "*  Convertir l’image en niveaux de gris.\n",
    "*  Redimensionner l’image à 100 x 100.\n",
    "*  Calculer et afficher l’histogramme de l’image (utiliser les fonctions **np.histogram**,**bar**).\n",
    "*  Calculer et afficher l’histogramme cumulé.(utiliser les fonctions **np.cumsum,bar**)."
   ]
  },
  {
   "cell_type": "code",
   "execution_count": null,
   "metadata": {},
   "outputs": [],
   "source": []
  },
  {
   "cell_type": "markdown",
   "metadata": {},
   "source": [
    "#### 2. Histogramme d’une image en couleurs\n",
    "On considère maintenant l’image de chat **\"chelsea\"** en couleurs.\n",
    "* Calculer l'histogramme correspondant pour chaque composante rouge, verte et bleue de l'image chelsea. (utiliser la fonction **exposure.histogram**)\n",
    "* Afficher dans le même graphique les trois histogrammes calculés dans la deuxième question. \n",
    "* Interpréter les résultas obtenus."
   ]
  },
  {
   "cell_type": "code",
   "execution_count": null,
   "metadata": {},
   "outputs": [],
   "source": []
  },
  {
   "cell_type": "markdown",
   "metadata": {},
   "source": [
    "## III. Modification de l’histogramme\n",
    "Dans le cas où l’image traitée est surexposée (uniformément blanche) ou sous-exposée (uniformément noire), il est utile d'ajuster son contraste et l'échelle des couleurs pour mieux l’analyser. Ceci revient à modifier son histogramme sans pour autant altérer ses informations. Parmi les méthodes de modification de l’histogramme, nous citons le seuillage, l'étirement, l'égalisation et l'inversion.\n",
    "#### 1. Seuillage\n",
    "Le seuillage est l'opération qui, étant donnée une certaine valeur appelée seuil, met à zéros les pixels d'intensité inférieure au seuil et à 1 (ou 255) les pixels d'intensité supérieure au seuil. Le résultat est une image binaire. Le but du seuillage est de faire apparaître des formes ou des objets dans l'image. Cependant, sa principale difficulté est le choix et l'ajustement du seuil. \n",
    "Notons également qu'il est possible de considérer deux seuils. Ainsi, les pixels d'intensités\n",
    "comprises entre ces deux seuils sont mis à 1 (ou 255) et les autres à 0. Ce seuillage est dit\n",
    "passe-bande.\n",
    "#### 2. Binarisation par seuillage Otsu\n",
    "La méthode de seuillage Otsu permet d’obtenir une image binaire telle que les pixels ayant une valeur inférieure à un certain seuil prennent la valeur 0 et ceux qui présentent des valeurs supérieures à ce seuil prennent la valeur 1. Ce seul peut être déterminé en utilisant la commande ‘threshold_otsu’.\n",
    "* Calculer la valeur du seuil de l’image Camera pour la méthode Otsu. Utiliser la commande **'threshold_otsu’**.\n",
    "*  Calculer l’histogramme de l’image étudiée et l’afficher. \n",
    "* Superposer une droite verticale en couleur rouge indiquant la valeur du seuil (calculé dans la question 1) sur l’histogramme (de la question 2). Utiliser les commandes **‘axvline’** et **‘color’**. \n",
    "* Calculer et afficher l’image binaire résultante en appliquant la méthode par seuillage Otsu.\n"
   ]
  },
  {
   "cell_type": "code",
   "execution_count": null,
   "metadata": {},
   "outputs": [],
   "source": []
  },
  {
   "cell_type": "markdown",
   "metadata": {},
   "source": [
    "#### 3. Etirement de l’histogramme\n",
    "Cette technique est utilisé lorsque l’image est trop claire, trop foncée ou peu contrastée (On appelle dynamique : l'intervalle $[a,b]$ Où a et b sont respectivement les niveaux de gris minimal et maximal présents dans l’image.\n",
    "\n",
    "La dynamique maximale est répresenté par $[0,255]$. Par conséquence, le but du recadrage dynamique est de redistribuer les niveaux de gris de l’image pour qu’ils occupent toute la bande de nuances possible, c.-à-d. la dynamique maximale.\n",
    " \n",
    "Cette opération consiste à répartir les fréquences d'apparition des pixels sur la largeur de\n",
    "l'histogramme afin d'augmenter le contraste d'une image. Ceci revient à étendre l'histogramme\n",
    "de manière que la valeur d'intensité la plus faible soit à zéro et la plus haute soit à la valeur\n",
    "maximale.\n",
    "Mathématiquement, l’étirement est une transformation linéaire $T$ qui s’applique sur les\n",
    "valeurs $x$ des pixels de l’image. Ainsi,\n",
    "\n",
    "\n",
    "$x \\in\\left[ x_{min}, x_{max} \\right]  T(x)=g*x+d$\n",
    "avec $d$ et $g$ deux constantes.\n",
    "\n",
    "Considérer l’image couleur **\"image_sombre.jpeg\"**.\n",
    "* lire et afficher l'image sombre au niveau de gris.\n",
    "* Afficher les valeurs $x_{min}$ et $x_{max}$ de l’image.\n",
    "* Calculer les valeurs $g,d$ sachant que \n",
    "$$g=\\frac{255}{x_{max}-x_{min}}$$\n",
    "$$d=\\frac{x_{min}*255}{x_{max}-x_{min}}$$\n",
    "* Etirer l’histogramme de l’image.\n",
    "* Afficher  l’histogramme de l’image originale et l’image modifiée.\n",
    "* Enregistrer l’image modifiée."
   ]
  },
  {
   "cell_type": "markdown",
   "metadata": {},
   "source": []
  },
  {
   "cell_type": "code",
   "execution_count": null,
   "metadata": {},
   "outputs": [],
   "source": []
  }
 ],
 "metadata": {
  "kernelspec": {
   "display_name": "Python 3",
   "language": "python",
   "name": "python3"
  },
  "language_info": {
   "codemirror_mode": {
    "name": "ipython",
    "version": 3
   },
   "file_extension": ".py",
   "mimetype": "text/x-python",
   "name": "python",
   "nbconvert_exporter": "python",
   "pygments_lexer": "ipython3",
   "version": "3.8.3"
  }
 },
 "nbformat": 4,
 "nbformat_minor": 4
}
