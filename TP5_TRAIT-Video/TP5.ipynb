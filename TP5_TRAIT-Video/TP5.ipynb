{
 "cells": [
  {
   "cell_type": "markdown",
   "metadata": {},
   "source": [
    "# TP5:  Compression vidéo : Modules de prédiction. \n",
    "                                                                               Nom:\n",
    "                                                                               Prénom:\n",
    "                                                                               Groupe:\n",
    "\n",
    "Vu que la vidéo est une donnée très volumineuse pour le stockage ainsi que pour le transfert sur réseau, la compression vidéo est une étape mondiales pour communiquer et manipuler des vidéos, surtout de grande définition ou résolution. \n",
    "\n",
    "Plusieurs standards compression vidéo ont vu le jour pour améliorer à chaque fois le débit binaire, le taux de compression tout en gardant la même qualité d'images.\n",
    "A travers les standards de compression vidéo, la chaine de codage et de décodage ont gardé la même allure. Par contre les détails des modules de la chaine de codec ont évolué d'un standard à un autre. \n",
    "Le principe du codec hybride a été toujours la base de ces standard. En effet, un codec hybride se base sur la prédiction Intra et Inter qui profite respectivement de la redondance spatiale et la redondance temporelle.\n",
    "\n",
    "Ce TP a pour but de comparer deux images d'une vidéo de test afin de détecter les redondance temporelle traitée par le module \" Inter Prédiction \" de la chaine d'encodage.\n",
    "\n",
    "Les étapes à suivre sont :"
   ]
  },
  {
   "cell_type": "markdown",
   "metadata": {},
   "source": [
    "\n",
    "\n",
    "## A. Lecture de video\n",
    "1- Lire la vidéo 'akiyo-cif-clip.mp4' à partir de votre répertoire de travail.\n",
    "\n",
    "2- Séparer les images de la vidéo et sauvegarder l'image 4 et 5 dans un répertoire Images sous le nom ImageRef,ImageSRC.\n",
    "\n",
    "3- comparer les deux images résultantes et interpréter.\n",
    "\n",
    "4- Afficher la difference entre les deux images.\n",
    "\n",
    "\n"
   ]
  },
  {
   "cell_type": "code",
   "execution_count": null,
   "metadata": {},
   "outputs": [],
   "source": []
  },
  {
   "cell_type": "markdown",
   "metadata": {},
   "source": [
    "## B. Comparer les images \n",
    "\n",
    "Pour pouvoir chercher les différences entre deux images, on va faire recours à une métrique de comparaison de blocs d'images pixel par pixel. Cette métrique est la fonction SAD .\n",
    "SAD : Sum of Absolute Difference\n",
    "L’algorithme SAD calcule la différence en valeur absolue entre un bloc source (16x16 pixels) et un bloc d’une image de référence (16x16 pixels).\n",
    "Utiliser dans le traitement d’image et vidéo, pour calculer la différence entre 2 images :\n",
    "$$ SAD= \\sum_{i=0}^{16} \\sum_{j=0}^{16}|src(i,j)-ref(i,j)| $$\n",
    "\n",
    "1- Développer la fonction SAD \n",
    "\n",
    "2- Appliquer SAD sur deux images successives de la vidéo akiyo. Soit les images 4 et 5.\n"
   ]
  },
  {
   "cell_type": "code",
   "execution_count": null,
   "metadata": {},
   "outputs": [],
   "source": []
  },
  {
   "cell_type": "markdown",
   "metadata": {},
   "source": [
    "\n",
    "## C. Principe de prediction Inter \n",
    "1- Appliquer la fonction SAD pour chercher les macroblocks les plus similaires dans toutes l'image.\n",
    "Interpréter.\n",
    "2- La recherche d'un macroblock dans une image est trés couteux en termes de nombre de cycles. Limiter la recherche dans une zone de 3x3 macroblock."
   ]
  },
  {
   "cell_type": "code",
   "execution_count": null,
   "metadata": {},
   "outputs": [],
   "source": []
  }
 ],
 "metadata": {
  "kernelspec": {
   "display_name": "Python 3",
   "language": "python",
   "name": "python3"
  },
  "language_info": {
   "codemirror_mode": {
    "name": "ipython",
    "version": 3
   },
   "file_extension": ".py",
   "mimetype": "text/x-python",
   "name": "python",
   "nbconvert_exporter": "python",
   "pygments_lexer": "ipython3",
   "version": "3.8.3"
  }
 },
 "nbformat": 4,
 "nbformat_minor": 4
}
